{
  "cells": [
    {
      "cell_type": "markdown",
      "metadata": {},
      "source": [
        "\n",
        "<div style=\"text-align: center; line-height: 0; padding-top: 9px;\">\n",
        "  <img src=\"yoydyne_data_science_logo.png\" alt=\"Yoydyne Data Science\" style=\"width: 600px\">\n",
        "</div>"
      ]
    },
    {
      "cell_type": "markdown",
      "metadata": {},
      "source": [
        "\n",
        "\n",
        "Run some code in **SQL**\n"
      ]
    },
    {
      "cell_type": "code",
      "execution_count": null,
      "metadata": {},
      "outputs": [],
      "source": [
        "DESCRIBE DETAIL my_table;"
      ]
    },
    {
      "cell_type": "markdown",
      "metadata": {},
      "source": [
        "\n",
        "\n",
        "Run same code in `python`\n"
      ]
    },
    {
      "cell_type": "code",
      "execution_count": null,
      "metadata": {},
      "outputs": [],
      "source": [
        "%python \n",
        "table_name = \"my_table\"\n",
        "my_table_location = spark.sql(f\"DESCRIBE DETAIL {table_name}\").first().location\n",
        "print(tbl_locmy_table_locationation)"
      ]
    }
  ],
  "metadata": {
    "anaconda-cloud": {},
    "kernelspec": {
      "display_name": "sql",
      "language": "sql",
      "name": "sql"
    },
    "language_info": {
      "file_extension": ".sql",
      "mimetype": "text/x-sql",
      "name": "sql",
      "nbconvert_exporter": "sql"
    }
  },
  "nbformat": 4,
  "nbformat_minor": 1
}
